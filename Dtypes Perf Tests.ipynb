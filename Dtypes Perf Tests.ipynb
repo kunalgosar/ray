{
 "cells": [
  {
   "cell_type": "code",
   "execution_count": 1,
   "metadata": {},
   "outputs": [
    {
     "name": "stdout",
     "output_type": "stream",
     "text": [
      "Process STDOUT and STDERR is being redirected to /tmp/raylogs/.\n",
      "Waiting for redis server at 127.0.0.1:42368 to respond...\n",
      "Waiting for redis server at 127.0.0.1:61285 to respond...\n",
      "Starting local scheduler with the following resources: {'GPU': 0, 'CPU': 4}.\n",
      "\n",
      "======================================================================\n",
      "View the web UI at http://localhost:8889/notebooks/ray_ui1901.ipynb?token=af658b219a765e84cd3f205630c483777bbf355cbe981b67\n",
      "======================================================================\n",
      "\n"
     ]
    }
   ],
   "source": [
    "import pandas\n",
    "import ray.dataframe as pd\n",
    "import ray\n",
    "import numpy as np\n",
    "\n",
    "import sys"
   ]
  },
  {
   "cell_type": "code",
   "execution_count": 2,
   "metadata": {},
   "outputs": [
    {
     "name": "stdout",
     "output_type": "stream",
     "text": [
      "Size of data in MB: 762.9395599365234\n"
     ]
    }
   ],
   "source": [
    "frame_data = np.random.randint(0,100,size=(10**6, 100))\n",
    "print(\"Size of data in MB: {}\".format(sys.getsizeof(frame_data)/1024/1024))"
   ]
  },
  {
   "cell_type": "code",
   "execution_count": 3,
   "metadata": {},
   "outputs": [
    {
     "name": "stdout",
     "output_type": "stream",
     "text": [
      "Time taken to construct pandas Dataframe: 0.0009381720001329086\n",
      "Time taken to create blocks via pandas DataFrame: 0.8288855499999954\n",
      "Time taken to create row_metadata: 0.011016202000064368\n",
      "Time taken to create col_metadata: 0.002499400000033347\n",
      "Total constructor time elapsed: 0.8444140920000791\n"
     ]
    }
   ],
   "source": [
    "ray_df = pd.DataFrame(frame_data)"
   ]
  },
  {
   "cell_type": "code",
   "execution_count": 4,
   "metadata": {},
   "outputs": [],
   "source": [
    "class SuppressPrints:\n",
    "    def __enter__(self):\n",
    "        self._original_stdout = sys.stdout\n",
    "        sys.stdout = None\n",
    "\n",
    "    def __exit__(self, exc_type, exc_val, exc_tb):\n",
    "        sys.stdout = self._original_stdout"
   ]
  },
  {
   "cell_type": "code",
   "execution_count": 5,
   "metadata": {},
   "outputs": [
    {
     "name": "stdout",
     "output_type": "stream",
     "text": [
      "The slowest run took 5.25 times longer than the fastest. This could mean that an intermediate result is being cached.\n",
      "3.68 s ± 1.99 s per loop (mean ± std. dev. of 7 runs, 1 loop each)\n"
     ]
    }
   ],
   "source": [
    "%%timeit\n",
    "with SuppressPrints():\n",
    "    ray_df = pd.DataFrame(frame_data)\n",
    "    dtypes = ray_df.dtypes"
   ]
  },
  {
   "cell_type": "code",
   "execution_count": 7,
   "metadata": {},
   "outputs": [
    {
     "name": "stdout",
     "output_type": "stream",
     "text": [
      "The slowest run took 6.96 times longer than the fastest. This could mean that an intermediate result is being cached.\n",
      "1.17 s ± 977 ms per loop (mean ± std. dev. of 7 runs, 1 loop each)\n"
     ]
    }
   ],
   "source": [
    "%%timeit\n",
    "with SuppressPrints():\n",
    "    ray_df = pd.DataFrame(frame_data)\n",
    "    dtypes = ray_df._dtypes_cache"
   ]
  },
  {
   "cell_type": "code",
   "execution_count": 8,
   "metadata": {},
   "outputs": [
    {
     "name": "stdout",
     "output_type": "stream",
     "text": [
      "258 µs ± 15.8 µs per loop (mean ± std. dev. of 7 runs, 1000 loops each)\n"
     ]
    }
   ],
   "source": [
    "%%timeit\n",
    "pandas.DataFrame(frame_data).dtypes"
   ]
  },
  {
   "cell_type": "code",
   "execution_count": null,
   "metadata": {},
   "outputs": [],
   "source": []
  }
 ],
 "metadata": {
  "kernelspec": {
   "display_name": "Python [conda env:ray-dev]",
   "language": "python",
   "name": "conda-env-ray-dev-py"
  },
  "language_info": {
   "codemirror_mode": {
    "name": "ipython",
    "version": 3
   },
   "file_extension": ".py",
   "mimetype": "text/x-python",
   "name": "python",
   "nbconvert_exporter": "python",
   "pygments_lexer": "ipython3",
   "version": "3.5.5"
  }
 },
 "nbformat": 4,
 "nbformat_minor": 2
}
